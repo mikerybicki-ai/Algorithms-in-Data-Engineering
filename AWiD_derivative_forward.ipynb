{
 "cells": [
  {
   "cell_type": "code",
   "execution_count": 1,
   "id": "84733970",
   "metadata": {},
   "outputs": [],
   "source": [
    "# Definicja struktury Dual\n",
    "struct Dual <:Number\n",
    "           v::Number\n",
    "           dv::Number\n",
    "end"
   ]
  },
  {
   "cell_type": "code",
   "execution_count": 4,
   "id": "f9ed9fd7",
   "metadata": {},
   "outputs": [
    {
     "data": {
      "text/plain": [
       "Dual(0.0, 1.0)"
      ]
     },
     "execution_count": 4,
     "metadata": {},
     "output_type": "execute_result"
    }
   ],
   "source": [
    "# Przeciążanie operatorów i funkcji\n",
    "import Base: +, -, *, /, ^\n",
    "-(x::Dual) = Dual(-x.v, -x.dv)\n",
    "+(x::Dual, y::Dual) = Dual(x.v + y.v, x.dv + y.dv)\n",
    "-(x::Dual, y::Dual) = Dual(x.v - y.v, x.dv - y.dv)\n",
    "*(x::Dual, y::Dual) = Dual(x.v * y.v, x.dv * y.v + x.v * y.dv)\n",
    "/(x::Dual, y::Dual) = Dual(x.v / y.v, (x.dv * y.v - x.v * y.dv) / y.v^2)\n",
    "^(x::Dual, y::Dual) = Dual(x.v^y.v, (y.v*(x.v^(y.v - 1.0))))\n",
    "\n",
    "import Base: sin, cos, isless, exp, abs\n",
    "sin(x::Dual) = Dual(sin(x.v), cos(x.v) * x.dv)\n",
    "cos(x::Dual) = Dual(cos(x.v), -sin(x.v)*x.dv)\n",
    "exp(x::Dual) = Dual(exp(x.v), exp(x.v)*x.dv)\n",
    "abs(x::Dual) = Dual(abs(x.v), sign(x.v)*x.dv)\n",
    "isless(x::Dual, y::Dual) = x.v < y.v\n",
    "\n",
    "# Zdefiniowanie zarodka\n",
    "ϵ = Dual(0. , 1.0)"
   ]
  },
  {
   "cell_type": "code",
   "execution_count": 11,
   "id": "ba81568f",
   "metadata": {
    "scrolled": true
   },
   "outputs": [
    {
     "data": {
      "text/plain": [
       "promote_rule (generic function with 125 methods)"
      ]
     },
     "execution_count": 11,
     "metadata": {},
     "output_type": "execute_result"
    }
   ],
   "source": [
    "# Konwersja i promocja typów\n",
    "import Base: convert, promote_rule\n",
    "convert(::Type{Dual}, x::T) where T<:Real = Dual(x, zero(x))\n",
    "promote_rule(::Type{Dual}, ::Type{T}) where T<:Real = Dual"
   ]
  },
  {
   "cell_type": "code",
   "execution_count": 16,
   "id": "c694d389",
   "metadata": {},
   "outputs": [
    {
     "data": {
      "text/plain": [
       "value (generic function with 1 method)"
      ]
     },
     "execution_count": 16,
     "metadata": {},
     "output_type": "execute_result"
    }
   ],
   "source": [
    "# Funkcja, która wyciąga część odpowiadającą za pochodną z liczby dualnej\n",
    "partials(x::Dual) = x.dv\n",
    "# Funkcja, która wyciąga część rzeczywistą z liczby dualnej\n",
    "value(x::Dual) = x.v"
   ]
  },
  {
   "cell_type": "code",
   "execution_count": 21,
   "id": "12636f88",
   "metadata": {},
   "outputs": [],
   "source": [
    "# Redefinicja wyświetlania wyniku\n",
    "import Base: show\n",
    "show(io::IO, x::Dual) = print(io, \"(\", x.v, \") + [\", x.dv, \"ϵ]\");"
   ]
  },
  {
   "cell_type": "code",
   "execution_count": 25,
   "id": "3827e87b",
   "metadata": {},
   "outputs": [],
   "source": [
    "using BenchmarkTools"
   ]
  },
  {
   "cell_type": "code",
   "execution_count": 28,
   "id": "b9b803a7",
   "metadata": {
    "collapsed": true
   },
   "outputs": [
    {
     "name": "stdout",
     "output_type": "stream",
     "text": [
      "  4.129 μs (77 allocations: 1.95 KiB)\n"
     ]
    },
    {
     "data": {
      "text/plain": [
       "4-element Vector{Float64}:\n",
       " 0.15809221956557123\n",
       " 0.2543315326683804\n",
       " 0.5854506911591818\n",
       " 0.4548111318661625"
      ]
     },
     "execution_count": 28,
     "metadata": {},
     "output_type": "execute_result"
    }
   ],
   "source": [
    "#FUNKCJE OBLICZENIOWE\n",
    "\n",
    "# Potęgowanie\n",
    "y = 2\n",
    "x = rand(4)\n",
    "f(x) = y^x\n",
    "    # Obliczenie pochodnej działania potęgowania dla wektora argumentów + Benchmark\n",
    "@btime y = partials.(f.($x .+ ϵ))"
   ]
  },
  {
   "cell_type": "code",
   "execution_count": 29,
   "id": "619b397b",
   "metadata": {
    "collapsed": true
   },
   "outputs": [
    {
     "name": "stdout",
     "output_type": "stream",
     "text": [
      "  3.575 μs (65 allocations: 1.64 KiB)\n"
     ]
    },
    {
     "data": {
      "text/plain": [
       "4-element Vector{Float64}:\n",
       " 2.0464330132843194\n",
       " 0.32269864163880857\n",
       " 6.3042825486646965\n",
       " 0.42369773597792043"
      ]
     },
     "execution_count": 29,
     "metadata": {},
     "output_type": "execute_result"
    }
   ],
   "source": [
    "# funkcja wykładnicza\n",
    "x = randn(4)\n",
    "f(x) = exp(x)\n",
    "  # Obliczenie pochodnej funkcji wykładniczej dla wektora argumentów + Benchmark\n",
    "@btime y = partials.(f.($x .+ ϵ))"
   ]
  },
  {
   "cell_type": "code",
   "execution_count": 30,
   "id": "4f8a83f6",
   "metadata": {
    "collapsed": true
   },
   "outputs": [
    {
     "name": "stdout",
     "output_type": "stream",
     "text": [
      "  59.900 μs (1906 allocations: 37.03 KiB)\n",
      "  59.900 μs (1905 allocations: 37.02 KiB)\n"
     ]
    },
    {
     "data": {
      "text/plain": [
       "41-element Vector{Real}:\n",
       " 0\n",
       " 0\n",
       " 0\n",
       " 0\n",
       " 0\n",
       " 0\n",
       " 0\n",
       " 0\n",
       " 0\n",
       " 0\n",
       " 0\n",
       " 0\n",
       " 0\n",
       " ⋮\n",
       " 1.0\n",
       " 1.0\n",
       " 1.0\n",
       " 1.0\n",
       " 1.0\n",
       " 1.0\n",
       " 1.0\n",
       " 1.0\n",
       " 1.0\n",
       " 1.0\n",
       " 1.0\n",
       " 1.0"
      ]
     },
     "execution_count": 30,
     "metadata": {},
     "output_type": "execute_result"
    }
   ],
   "source": [
    "# Funkcja ReLU - przedstawiona na dwa sposoby\n",
    "#(1) \n",
    "ReLu(x) = max(zero(x), x)\n",
    "x = -1.0:0.05:+1.0\n",
    "    #Obliczenie pochodnej funkcji ReLu dla wektora argumentów x + Benchmark\n",
    "@btime y = partials.(ReLu.($x .+ ϵ))\n",
    "\n",
    "#(2)\n",
    "f(x) = x > zero(x) ? x : zero(x)\n",
    "x = -1.0:0.05:+1.0\n",
    "   #Obliczenie pochodnej funkcji ReLu dla wektora argumentów x + Benchmark\n",
    "@btime y = partials.(f.($x .+ ϵ))"
   ]
  },
  {
   "cell_type": "code",
   "execution_count": 31,
   "id": "16b5bb5e",
   "metadata": {},
   "outputs": [
    {
     "name": "stdout",
     "output_type": "stream",
     "text": [
      "  65.100 μs (2125 allocations: 40.44 KiB)\n",
      "  66.800 μs (2166 allocations: 41.08 KiB)\n"
     ]
    },
    {
     "data": {
      "text/plain": [
       "41-element Vector{Float64}:\n",
       "  0.8414709848078965\n",
       "  0.8134155047893737\n",
       "  0.7833269096274834\n",
       "  0.7512804051402927\n",
       "  0.7173560908995228\n",
       "  0.6816387600233341\n",
       "  0.644217687237691\n",
       "  0.6051864057360395\n",
       "  0.5646424733950354\n",
       "  0.5226872289306592\n",
       "  0.479425538604203\n",
       "  0.43496553411123023\n",
       "  0.3894183423086505\n",
       "  ⋮\n",
       " -0.43496553411123023\n",
       " -0.479425538604203\n",
       " -0.5226872289306592\n",
       " -0.5646424733950354\n",
       " -0.6051864057360395\n",
       " -0.644217687237691\n",
       " -0.6816387600233341\n",
       " -0.7173560908995228\n",
       " -0.7512804051402927\n",
       " -0.7833269096274834\n",
       " -0.8134155047893737\n",
       " -0.8414709848078965"
      ]
     },
     "execution_count": 31,
     "metadata": {},
     "output_type": "execute_result"
    }
   ],
   "source": [
    "# Funkcja sinus, cosinus\n",
    "x = -1.0:0.05:+1.0\n",
    "f(x) = sin(x)\n",
    "@btime y = partials.(f.($x .+ ϵ))\n",
    "\n",
    "\n",
    "f(x) = cos(x)\n",
    "@btime y = partials.(f.($x .+ ϵ))"
   ]
  },
  {
   "cell_type": "code",
   "execution_count": null,
   "id": "24051246",
   "metadata": {},
   "outputs": [],
   "source": []
  }
 ],
 "metadata": {
  "kernelspec": {
   "display_name": "Julia 1.6.0",
   "language": "julia",
   "name": "julia-1.6"
  },
  "language_info": {
   "file_extension": ".jl",
   "mimetype": "application/julia",
   "name": "julia",
   "version": "1.6.0"
  }
 },
 "nbformat": 4,
 "nbformat_minor": 5
}
