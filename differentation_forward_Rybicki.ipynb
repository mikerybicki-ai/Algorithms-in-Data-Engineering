{
 "cells": [
  {
   "cell_type": "code",
   "execution_count": 547,
   "id": "de64040f",
   "metadata": {
    "collapsed": true
   },
   "outputs": [
    {
     "name": "stderr",
     "output_type": "stream",
     "text": [
      "\u001b[32m\u001b[1m   Resolving\u001b[22m\u001b[39m package versions...\n",
      "\u001b[32m\u001b[1m  No Changes\u001b[22m\u001b[39m to `C:\\Users\\michr\\.julia\\environments\\v1.6\\Project.toml`\n",
      "\u001b[32m\u001b[1m  No Changes\u001b[22m\u001b[39m to `C:\\Users\\michr\\.julia\\environments\\v1.6\\Manifest.toml`\n",
      "\u001b[32m\u001b[1m   Resolving\u001b[22m\u001b[39m package versions...\n",
      "\u001b[32m\u001b[1m  No Changes\u001b[22m\u001b[39m to `C:\\Users\\michr\\.julia\\environments\\v1.6\\Project.toml`\n",
      "\u001b[32m\u001b[1m  No Changes\u001b[22m\u001b[39m to `C:\\Users\\michr\\.julia\\environments\\v1.6\\Manifest.toml`\n",
      "\u001b[32m\u001b[1m   Resolving\u001b[22m\u001b[39m package versions...\n",
      "\u001b[32m\u001b[1m    Updating\u001b[22m\u001b[39m `C:\\Users\\michr\\.julia\\environments\\v1.6\\Project.toml`\n",
      " \u001b[90m [8bb1440f] \u001b[39m\u001b[92m+ DelimitedFiles\u001b[39m\n",
      "\u001b[32m\u001b[1m  No Changes\u001b[22m\u001b[39m to `C:\\Users\\michr\\.julia\\environments\\v1.6\\Manifest.toml`\n"
     ]
    }
   ],
   "source": [
    "import Pkg; Pkg.add(\"Plots\"); Pkg.add(\"BenchmarkTools\"); Pkg.add(\"DelimitedFiles\");"
   ]
  },
  {
   "cell_type": "code",
   "execution_count": 185,
   "id": "548a78a4",
   "metadata": {
    "collapsed": true
   },
   "outputs": [
    {
     "name": "stderr",
     "output_type": "stream",
     "text": [
      "\u001b[32m\u001b[1m   Resolving\u001b[22m\u001b[39m package versions...\n",
      "\u001b[32m\u001b[1m  No Changes\u001b[22m\u001b[39m to `C:\\Users\\michr\\.julia\\environments\\v1.6\\Project.toml`\n",
      "\u001b[32m\u001b[1m  No Changes\u001b[22m\u001b[39m to `C:\\Users\\michr\\.julia\\environments\\v1.6\\Manifest.toml`\n"
     ]
    }
   ],
   "source": [
    "import Pkg; Pkg.add(\"Plots\")"
   ]
  },
  {
   "cell_type": "code",
   "execution_count": 530,
   "id": "a26875a3",
   "metadata": {
    "collapsed": true
   },
   "outputs": [
    {
     "name": "stderr",
     "output_type": "stream",
     "text": [
      "\u001b[32m\u001b[1m   Resolving\u001b[22m\u001b[39m package versions...\n",
      "\u001b[32m\u001b[1m   Installed\u001b[22m\u001b[39m PyPlot ─ v2.9.0\n",
      "\u001b[32m\u001b[1m   Installed\u001b[22m\u001b[39m PyCall ─ v1.92.3\n",
      "\u001b[32m\u001b[1m    Updating\u001b[22m\u001b[39m `C:\\Users\\michr\\.julia\\environments\\v1.6\\Project.toml`\n",
      " \u001b[90m [d330b81b] \u001b[39m\u001b[92m+ PyPlot v2.9.0\u001b[39m\n",
      "\u001b[32m\u001b[1m    Updating\u001b[22m\u001b[39m `C:\\Users\\michr\\.julia\\environments\\v1.6\\Manifest.toml`\n",
      " \u001b[90m [438e738f] \u001b[39m\u001b[92m+ PyCall v1.92.3\u001b[39m\n",
      " \u001b[90m [d330b81b] \u001b[39m\u001b[92m+ PyPlot v2.9.0\u001b[39m\n",
      "\u001b[32m\u001b[1m    Building\u001b[22m\u001b[39m PyCall → `C:\\Users\\michr\\.julia\\scratchspaces\\44cfe95a-1eb2-52ea-b672-e2afdf69b78f\\169bb8ea6b1b143c5cf57df6d34d022a7b60c6db\\build.log`\n",
      "\u001b[32m\u001b[1mPrecompiling\u001b[22m\u001b[39m project...\n",
      "\u001b[32m  ✓ \u001b[39m\u001b[90mPyCall\u001b[39m\n",
      "\u001b[32m  ✓ \u001b[39mPyPlot\n",
      "2 dependencies successfully precompiled in 9 seconds (188 already precompiled)\n"
     ]
    }
   ],
   "source": [
    "import Pkg; Pkg.add(\"PyPlot\")"
   ]
  },
  {
   "cell_type": "code",
   "execution_count": 37,
   "id": "855576c4",
   "metadata": {},
   "outputs": [],
   "source": [
    "import BenchmarkTools"
   ]
  },
  {
   "cell_type": "code",
   "execution_count": 38,
   "id": "d4e9f4e8",
   "metadata": {
    "collapsed": true
   },
   "outputs": [
    {
     "name": "stderr",
     "output_type": "stream",
     "text": [
      "\u001b[32m\u001b[1m   Resolving\u001b[22m\u001b[39m package versions...\n",
      "\u001b[32m\u001b[1m  No Changes\u001b[22m\u001b[39m to `C:\\Users\\michr\\.julia\\environments\\v1.6\\Project.toml`\n",
      "\u001b[32m\u001b[1m  No Changes\u001b[22m\u001b[39m to `C:\\Users\\michr\\.julia\\environments\\v1.6\\Manifest.toml`\n"
     ]
    }
   ],
   "source": [
    "import Pkg; Pkg.add(\"NNlib\");"
   ]
  },
  {
   "cell_type": "code",
   "execution_count": 39,
   "id": "0ca8e71a",
   "metadata": {},
   "outputs": [],
   "source": [
    "# Definicja struktury Dual\n",
    "struct Dual{T <:Number} <:Number\n",
    "     v::T\n",
    "    dv::T\n",
    "end"
   ]
  },
  {
   "cell_type": "code",
   "execution_count": 40,
   "id": "d55b9152",
   "metadata": {},
   "outputs": [
    {
     "data": {
      "text/plain": [
       "(0.0) + [1.0ϵ]"
      ]
     },
     "execution_count": 40,
     "metadata": {},
     "output_type": "execute_result"
    }
   ],
   "source": [
    "# Przeciążanie operatorów i funkcji\n",
    "\n",
    "import Base: +, -, *, /, ^\n",
    "-(x::Dual)          = Dual(-x.v,       -x.dv)\n",
    "+(x::Dual, y::Dual) = Dual( x.v + y.v,  x.dv + y.dv)\n",
    "-(x::Dual, y::Dual) = Dual( x.v - y.v,  x.dv - y.dv)\n",
    "*(x::Dual, y::Dual) = Dual( x.v * y.v,  x.dv * y.v + x.v * y.dv)\n",
    "/(x::Dual, y::Dual) = Dual( x.v / y.v, (x.dv * y.v - x.v * y.dv)/y.v^2)\n",
    "^(x::Dual, y::Dual) = Dual(x.v^y.v, (y.v*(x.v^(y.v - 1.0))))\n",
    "\n",
    "import Base: abs, sin, cos, tan, exp, sqrt, isless\n",
    "sin(x::Dual)  = Dual(sin(x.v), cos(x.v)*x.dv)\n",
    "cos(x::Dual)  = Dual(cos(x.v),-sin(x.v)*x.dv)\n",
    "abs(x::Dual)  = Dual(abs(x.v),sign(x.v)*x.dv)\n",
    "tan(x::Dual)  = Dual(tan(x.v), one(x.v)*x.dv + tan(x.v)^2*x.dv)\n",
    "exp(x::Dual)  = Dual(exp(x.v), exp(x.v)*x.dv)\n",
    "sqrt(x::Dual) = Dual(sqrt(x.v),.5/sqrt(x.v) * x.dv)\n",
    "isless(x::Dual, y::Dual) = x.v < y.v;\n",
    "\n",
    "# Zdefiniowanie zarodka\n",
    "ϵ = Dual(0.0, 1.0)"
   ]
  },
  {
   "cell_type": "code",
   "execution_count": 43,
   "id": "696151d0",
   "metadata": {},
   "outputs": [],
   "source": [
    "# Konwersja i promocja typów\n",
    "import Base: convert, promote_rule"
   ]
  },
  {
   "cell_type": "code",
   "execution_count": 44,
   "id": "ea76f923",
   "metadata": {},
   "outputs": [
    {
     "name": "stdout",
     "output_type": "stream",
     "text": [
      "Dual{Float64}[Dual(1, 2), Dual(3, 0)] = Dual{Float64}[(1.0) + [2.0ϵ], (3.0) + [0.0ϵ]]\n"
     ]
    }
   ],
   "source": [
    "convert(::Type{Dual{T}}, x::Dual) where T = Dual(convert(T, x.v), convert(T, x.dv))\n",
    "@show Dual{Float64}[Dual(1,2), Dual(3,0)];"
   ]
  },
  {
   "cell_type": "code",
   "execution_count": 45,
   "id": "4973894d",
   "metadata": {},
   "outputs": [
    {
     "name": "stdout",
     "output_type": "stream",
     "text": [
      "Dual{Float64}[1, 2, 3] = Dual{Float64}[(1.0) + [0.0ϵ], (2.0) + [0.0ϵ], (3.0) + [0.0ϵ]]\n"
     ]
    }
   ],
   "source": [
    "convert(::Type{Dual{T}}, x::Number) where T = Dual(convert(T, x), zero(T))\n",
    "@show Dual{Float64}[1, 2, 3];"
   ]
  },
  {
   "cell_type": "code",
   "execution_count": 46,
   "id": "27ba9319",
   "metadata": {},
   "outputs": [
    {
     "name": "stdout",
     "output_type": "stream",
     "text": [
      "Dual(1, 2) * 3 = (3) + [6ϵ]\n"
     ]
    }
   ],
   "source": [
    "promote_rule(::Type{Dual{T}}, ::Type{R}) where {T,R} = Dual{promote_type(T,R)}\n",
    "@show Dual(1,2) * 3;"
   ]
  },
  {
   "cell_type": "code",
   "execution_count": 47,
   "id": "5d79697d",
   "metadata": {},
   "outputs": [],
   "source": [
    "# Redefinicja wyświetlania wyniku\n",
    "import Base: show\n",
    "show(io::IO, x::Dual) = print(io, \"(\", x.v, \") + [\", x.dv, \"ϵ]\");"
   ]
  },
  {
   "cell_type": "code",
   "execution_count": 48,
   "id": "393e05d6",
   "metadata": {},
   "outputs": [
    {
     "data": {
      "text/plain": [
       "value (generic function with 1 method)"
      ]
     },
     "execution_count": 48,
     "metadata": {},
     "output_type": "execute_result"
    }
   ],
   "source": [
    "# Funkcja, która wyciąga część odpowiadającą za pochodną z liczby dualnej\n",
    "partials(x::Dual) = x.dv\n",
    "# Funkcja, która wyciąga część rzeczywistą z liczby dualnej\n",
    "value(x::Dual) = x.v"
   ]
  },
  {
   "cell_type": "code",
   "execution_count": 49,
   "id": "678ca590",
   "metadata": {},
   "outputs": [],
   "source": [
    "using BenchmarkTools"
   ]
  },
  {
   "cell_type": "code",
   "execution_count": 50,
   "id": "c2adf966",
   "metadata": {},
   "outputs": [],
   "source": [
    "# Definicja funkcji softmax\n",
    "softmax(x)  =  exp.(x) ./ sum(exp.(x));\n",
    "\n"
   ]
  },
  {
   "cell_type": "code",
   "execution_count": 51,
   "id": "e455095e",
   "metadata": {},
   "outputs": [
    {
     "data": {
      "text/plain": [
       "jacobian (generic function with 1 method)"
      ]
     },
     "execution_count": 51,
     "metadata": {},
     "output_type": "execute_result"
    }
   ],
   "source": [
    "# Definicja funkcji zwracającej macierz Jacobiego\n",
    "J = function jacobian(f, args::Vector{T}) where {T <:Number}\n",
    "    jacobian_columns = Matrix{T}[]\n",
    "    \n",
    "    for i=1:length(args)\n",
    "        x = Dual{T}[]\n",
    "        for j=1:length(args)\n",
    "            seed = (i == j)\n",
    "            push!(x, seed ?\n",
    "                Dual(args[j], one(args[j])) :\n",
    "                Dual(args[j],zero(args[j])) )\n",
    "        end\n",
    "        column = partials.([f(x)...])\n",
    "        push!(jacobian_columns, column[:,:]);\n",
    "    end\n",
    "    #println(jacobian_columns)\n",
    "    hcat(jacobian_columns...)\n",
    "end"
   ]
  },
  {
   "cell_type": "code",
   "execution_count": 52,
   "id": "24d97c4b",
   "metadata": {},
   "outputs": [
    {
     "data": {
      "text/plain": [
       "tanh (generic function with 1 method)"
      ]
     },
     "execution_count": 52,
     "metadata": {},
     "output_type": "execute_result"
    }
   ],
   "source": [
    "# Funkcje aktywacji: ReLu, f.sigmoidalna, tangens hiperboliczny\n",
    "ReLU(x) = max(zero(x), x)\n",
    "σ(x) = one(x) / (one(x) + exp(-x))\n",
    "tanh(x) = 2.0 / (one(x) + exp(-2.0x)) - one(x)"
   ]
  },
  {
   "cell_type": "code",
   "execution_count": 53,
   "id": "954fd709",
   "metadata": {},
   "outputs": [],
   "source": [
    "#FUNKCJE OBLICZENIOWE\n",
    "# 1) Potęgowanie\n",
    "# 2) Funkcja wykładnicza\n",
    "# 3) Funkcja sinus/cosinus\n",
    "# 4) Funkcja ReLu\n",
    "# 5) Funkcja softmax"
   ]
  },
  {
   "cell_type": "code",
   "execution_count": 54,
   "id": "062df13c",
   "metadata": {},
   "outputs": [
    {
     "name": "stdout",
     "output_type": "stream",
     "text": [
      "  3.250 μs (47 allocations: 1.59 KiB)\n"
     ]
    },
    {
     "data": {
      "text/plain": [
       "10-element Vector{Float64}:\n",
       " 0.629314965040426\n",
       " 0.09507700840252527\n",
       " 0.953968963800077\n",
       " 0.05064176111157396\n",
       " 0.4164247116235913\n",
       " 0.280137742621393\n",
       " 0.256393973587004\n",
       " 0.03983798808665227\n",
       " 0.8223853347335053\n",
       " 0.21502047862026272"
      ]
     },
     "execution_count": 54,
     "metadata": {},
     "output_type": "execute_result"
    }
   ],
   "source": [
    "# Ad 1 - Potęgowania (f. jednoargumentowa)\n",
    "y = 2\n",
    "x = rand(10)\n",
    "f(x) = y^x\n",
    "# Obliczenie wektora pochodnych funkcji potęgowania dla wektora argumentów + Benchmark\n",
    "@btime y = partials.(f.($x .+ ϵ))"
   ]
  },
  {
   "cell_type": "code",
   "execution_count": 617,
   "id": "1886b4f4",
   "metadata": {},
   "outputs": [
    {
     "data": {
      "text/plain": [
       "BenchmarkTools.Trial: \n",
       "  memory estimate:  1.27 KiB\n",
       "  allocs estimate:  11\n",
       "  --------------\n",
       "  minimum time:     2.311 μs (0.00% GC)\n",
       "  median time:      2.589 μs (0.00% GC)\n",
       "  mean time:        2.660 μs (2.03% GC)\n",
       "  maximum time:     546.356 μs (99.08% GC)\n",
       "  --------------\n",
       "  samples:          10000\n",
       "  evals/sample:     9"
      ]
     },
     "execution_count": 617,
     "metadata": {},
     "output_type": "execute_result"
    }
   ],
   "source": [
    "# Ad 2 - Funkcja wykładnicza (f. jednoargumentowa)\n",
    "x = randn(100)\n",
    "f(x) = exp(x)\n",
    "# Obliczenie wektora pochodnych funkcji wykładniczej dla wektora argumentów + Benchmark\n",
    "#@btime y = partials.(f.($x .+ ϵ))\n",
    "y = @benchmark partials.(f.($x .+ ϵ))\n",
    "#mean(y.times)"
   ]
  },
  {
   "cell_type": "code",
   "execution_count": 618,
   "id": "f1e3bc7d",
   "metadata": {},
   "outputs": [
    {
     "data": {
      "text/plain": [
       "BenchmarkTools.Trial: \n",
       "  memory estimate:  560 bytes\n",
       "  allocs estimate:  11\n",
       "  --------------\n",
       "  minimum time:     1.540 μs (0.00% GC)\n",
       "  median time:      1.650 μs (0.00% GC)\n",
       "  mean time:        1.701 μs (0.00% GC)\n",
       "  maximum time:     8.710 μs (0.00% GC)\n",
       "  --------------\n",
       "  samples:          10000\n",
       "  evals/sample:     10"
      ]
     },
     "execution_count": 618,
     "metadata": {},
     "output_type": "execute_result"
    }
   ],
   "source": [
    "# Ad 3.1 -  Funkcja sinus (f.jednoargumentowa)\n",
    "x = rand(Float64,10)\n",
    "f(x) = sin(x)\n",
    "#Obliczenie wektora pochodnych funkcji sinus dla wektora argumentów x + Benchmark\n",
    "#@btime y = partials.(f.($x .+ ϵ))\n",
    "\n",
    "y = @benchmark partials.(f.($x .+ ϵ))\n",
    "#mean(y.times)"
   ]
  },
  {
   "cell_type": "code",
   "execution_count": 620,
   "id": "1eab50f0",
   "metadata": {
    "scrolled": false
   },
   "outputs": [
    {
     "data": {
      "text/plain": [
       "BenchmarkTools.Trial: \n",
       "  memory estimate:  560 bytes\n",
       "  allocs estimate:  11\n",
       "  --------------\n",
       "  minimum time:     1.460 μs (0.00% GC)\n",
       "  median time:      1.570 μs (0.00% GC)\n",
       "  mean time:        1.627 μs (0.00% GC)\n",
       "  maximum time:     7.480 μs (0.00% GC)\n",
       "  --------------\n",
       "  samples:          10000\n",
       "  evals/sample:     10"
      ]
     },
     "execution_count": 620,
     "metadata": {},
     "output_type": "execute_result"
    }
   ],
   "source": [
    "# Ad 3.2 - Funkcja cosinus (f.jednoargumentowa)\n",
    "x = rand(Float64,10)\n",
    "f(x) = cos(x)\n",
    "#Obliczenie wektora pochodnych funkcji cosinus dla wektora argumentów x + Benchmark\n",
    "#@btime y = partials.(f.($x .+ ϵ))\n",
    "\n",
    "y = @benchmark partials.(f.($x .+ ϵ))\n",
    "#mean(y.times)"
   ]
  },
  {
   "cell_type": "code",
   "execution_count": 621,
   "id": "2812a888",
   "metadata": {},
   "outputs": [
    {
     "data": {
      "text/plain": [
       "BenchmarkTools.Trial: \n",
       "  memory estimate:  560 bytes\n",
       "  allocs estimate:  11\n",
       "  --------------\n",
       "  minimum time:     1.540 μs (0.00% GC)\n",
       "  median time:      1.660 μs (0.00% GC)\n",
       "  mean time:        1.776 μs (0.00% GC)\n",
       "  maximum time:     10.020 μs (0.00% GC)\n",
       "  --------------\n",
       "  samples:          10000\n",
       "  evals/sample:     10"
      ]
     },
     "execution_count": 621,
     "metadata": {},
     "output_type": "execute_result"
    }
   ],
   "source": [
    "# Funkcja złożona sin(x^2)\n",
    "x = rand(Float64, 10)\n",
    "f(x) = sin(x^2)\n",
    "y = @benchmark partials.(f.($x .+ ϵ))\n",
    "#mean(y.times)"
   ]
  },
  {
   "cell_type": "code",
   "execution_count": 614,
   "id": "53866ae0",
   "metadata": {},
   "outputs": [
    {
     "name": "stdout",
     "output_type": "stream",
     "text": [
      "  1.370 μs (11 allocations: 848 bytes)\n"
     ]
    },
    {
     "data": {
      "text/plain": [
       "BenchmarkTools.Trial: \n",
       "  memory estimate:  976 bytes\n",
       "  allocs estimate:  11\n",
       "  --------------\n",
       "  minimum time:     1.280 μs (0.00% GC)\n",
       "  median time:      1.400 μs (0.00% GC)\n",
       "  mean time:        1.546 μs (0.00% GC)\n",
       "  maximum time:     7.800 μs (0.00% GC)\n",
       "  --------------\n",
       "  samples:          10000\n",
       "  evals/sample:     10"
      ]
     },
     "execution_count": 614,
     "metadata": {},
     "output_type": "execute_result"
    }
   ],
   "source": [
    "# Ad 4- Funkcja ReLU - przedstawiona na dwa sposoby\n",
    "#(1) \n",
    "ReLu(x) = max(zero(x), x)\n",
    "x = -1.0:0.5:+1.0\n",
    "#Obliczenie wektora pochodnych funkcji ReLu dla wektora argumentów x + Benchmark\n",
    "@btime y = partials.(ReLu.($x .+ ϵ))\n",
    "\n",
    "#(2)\n",
    "f(x) = x > zero(x) ? x : zero(x)\n",
    "x = -1.0:0.1:+1.0\n",
    "y = @benchmark partials.(f.($x .+ ϵ))"
   ]
  },
  {
   "cell_type": "code",
   "execution_count": 608,
   "id": "c71c23cd",
   "metadata": {
    "scrolled": false
   },
   "outputs": [
    {
     "name": "stdout",
     "output_type": "stream",
     "text": [
      "  1.130 μs (9 allocations: 784 bytes)\n"
     ]
    },
    {
     "data": {
      "text/plain": [
       "6-element Vector{Float64}:\n",
       " 0.0\n",
       " 0.0\n",
       " 0.0\n",
       " 0.0\n",
       " 0.0\n",
       " 0.0"
      ]
     },
     "execution_count": 608,
     "metadata": {},
     "output_type": "execute_result"
    }
   ],
   "source": [
    "# Ad 5 - Funkcja softmax\n",
    "ϵ = Dual(0.0, 1.0)\n",
    "x = rand(Float64, 6)\n",
    "@btime y = partials.(softmax($x .+ ϵ))"
   ]
  },
  {
   "cell_type": "code",
   "execution_count": 450,
   "id": "549529ad",
   "metadata": {},
   "outputs": [
    {
     "data": {
      "text/plain": [
       "6.024707632131466"
      ]
     },
     "execution_count": 450,
     "metadata": {},
     "output_type": "execute_result"
    }
   ],
   "source": [
    "# Różniczkowanie dla funkcji przyjmującej dwa parametry - przykład dla f.sinus\n",
    "derivative(f, x) = partials(f(Dual(x, one(x))))\n",
    "f(x,y)= sin(x*y)\n",
    "x = 10.0\n",
    "y = 25.0\n",
    "\n",
    "# Pochodna cząstkowa funkcji f po x (df/dx) ; pochodna cząstkowa funkcji f po y (df/dy)\n",
    "derivative(a -> f(a, 25.0), 10.0) # df/dx\n",
    "derivative(a -> f(10.0, a), 25.0) # df/dy\n",
    "\n"
   ]
  },
  {
   "cell_type": "code",
   "execution_count": 62,
   "id": "afb467dd",
   "metadata": {},
   "outputs": [],
   "source": [
    "# Wyznaczenie macierzy Jacobiego dla poszczególnych funkcji\n",
    "# 1. Sinus/cosinus\n",
    "# 2. Funkcja wykładnicza\n",
    "# 3. Funkcja softmax\n",
    "# 4. Funkcja ReLu "
   ]
  },
  {
   "cell_type": "code",
   "execution_count": 544,
   "id": "74fcd8c4",
   "metadata": {},
   "outputs": [
    {
     "name": "stdout",
     "output_type": "stream",
     "text": [
      "  428.283 ns (13 allocations: 1.09 KiB)\n"
     ]
    },
    {
     "data": {
      "text/plain": [
       "1×2 Matrix{Float64}:\n",
       " -0.582  -0.291"
      ]
     },
     "execution_count": 544,
     "metadata": {},
     "output_type": "execute_result"
    }
   ],
   "source": [
    "#Ad 1 - Sinus\n",
    "# funkcja jacobian zwraca macierz pochodnych cząstkowych funkcji f, czyli macierz [df/dx df/dy]\n",
    "# sin(x[1]*x[2]) jest równoznaczne z sin(x * y)\n",
    "vector = [2.0, 4.0]\n",
    "f(x::Vector) = sin(x[1] * x[2])\n",
    "@btime jacobian(f,vector)"
   ]
  },
  {
   "cell_type": "code",
   "execution_count": 65,
   "id": "4d8d4c04",
   "metadata": {
    "scrolled": true
   },
   "outputs": [
    {
     "name": "stdout",
     "output_type": "stream",
     "text": [
      "[0.14966895115095524, 0.991247729976666]\n",
      "  417.588 ns (13 allocations: 1.09 KiB)\n"
     ]
    },
    {
     "data": {
      "text/plain": [
       "1×2 Matrix{Float64}:\n",
       " -0.146522  -0.0221234"
      ]
     },
     "execution_count": 65,
     "metadata": {},
     "output_type": "execute_result"
    }
   ],
   "source": [
    "# Ad 1 - cosinus\n",
    "vector = rand(Float64,2)\n",
    "println(vector)\n",
    "f(x::Vector) = cos(x[1] * x[2])\n",
    "@btime jacobian(f,vector)"
   ]
  },
  {
   "cell_type": "code",
   "execution_count": 432,
   "id": "231b72c4",
   "metadata": {
    "scrolled": true
   },
   "outputs": [
    {
     "name": "stdout",
     "output_type": "stream",
     "text": [
      "[1.0, 2.0, 4.0]\n",
      "  862.222 ns (20 allocations: 1.61 KiB)\n"
     ]
    },
    {
     "data": {
      "text/plain": [
       "1×3 Matrix{Float64}:\n",
       " 23847.7  11923.8  5961.92"
      ]
     },
     "execution_count": 432,
     "metadata": {},
     "output_type": "execute_result"
    }
   ],
   "source": [
    "# Ad 2 - funkcja wykładnicza\n",
    "vector = [1.0, 2.0, 4.0]\n",
    "println(vector)\n",
    "f(x::Vector) = exp(x[1]*x[2]*x[3])\n",
    "@btime jacobian(f,vector)"
   ]
  },
  {
   "cell_type": "code",
   "execution_count": 67,
   "id": "53ed77f2",
   "metadata": {},
   "outputs": [
    {
     "name": "stdout",
     "output_type": "stream",
     "text": [
      "  4.271 μs (86 allocations: 6.75 KiB)\n"
     ]
    },
    {
     "data": {
      "text/plain": [
       "5×5 Matrix{Float64}:\n",
       "  0.130214   -0.0251615  -0.0463545  -0.0339701  -0.0247278\n",
       " -0.0251615   0.136764   -0.0492445  -0.036088   -0.0262695\n",
       " -0.0463545  -0.0492445   0.210479   -0.0664842  -0.0483958\n",
       " -0.0339701  -0.036088   -0.0664842   0.172008   -0.0354661\n",
       " -0.0247278  -0.0262695  -0.0483958  -0.0354661   0.134859"
      ]
     },
     "execution_count": 67,
     "metadata": {},
     "output_type": "execute_result"
    }
   ],
   "source": [
    "# Ad 3 - funkcja softmax użyta jako argument funkcji jacobian - zwracającej macierz Jacobiego\n",
    "vector = rand(Float64, 5)\n",
    "f(x::Vector) = softmax(x)\n",
    "@btime jacobian(f, vector)"
   ]
  },
  {
   "cell_type": "code",
   "execution_count": 68,
   "id": "f8fceb4a",
   "metadata": {
    "collapsed": true
   },
   "outputs": [
    {
     "name": "stdout",
     "output_type": "stream",
     "text": [
      "[0.915611869736974, 0.30341102043420065, 0.804883250105225, 0.19991283043648944, 0.0713416953472148, 0.30004060140745814, 0.5287664823765961, 0.49400889888541677, 0.7912705579708659, 0.13783748035275134]\n",
      "  8.800 μs (217 allocations: 18.59 KiB)\n"
     ]
    },
    {
     "data": {
      "text/plain": [
       "10×10 Matrix{Float64}:\n",
       " 1.0  0.0  0.0  0.0  0.0  0.0  0.0  0.0  0.0  0.0\n",
       " 0.0  1.0  0.0  0.0  0.0  0.0  0.0  0.0  0.0  0.0\n",
       " 0.0  0.0  1.0  0.0  0.0  0.0  0.0  0.0  0.0  0.0\n",
       " 0.0  0.0  0.0  1.0  0.0  0.0  0.0  0.0  0.0  0.0\n",
       " 0.0  0.0  0.0  0.0  1.0  0.0  0.0  0.0  0.0  0.0\n",
       " 0.0  0.0  0.0  0.0  0.0  1.0  0.0  0.0  0.0  0.0\n",
       " 0.0  0.0  0.0  0.0  0.0  0.0  1.0  0.0  0.0  0.0\n",
       " 0.0  0.0  0.0  0.0  0.0  0.0  0.0  1.0  0.0  0.0\n",
       " 0.0  0.0  0.0  0.0  0.0  0.0  0.0  0.0  1.0  0.0\n",
       " 0.0  0.0  0.0  0.0  0.0  0.0  0.0  0.0  0.0  1.0"
      ]
     },
     "execution_count": 68,
     "metadata": {},
     "output_type": "execute_result"
    }
   ],
   "source": [
    "# Ad 4 - funkcja ReLu - \"przepuszczona\" przez funkcję jacobian\n",
    "vector = rand(Float64, 10)\n",
    "println(vector)\n",
    "f(x::Vector) = ReLu(x)\n",
    "@btime jacobian(f, vector)"
   ]
  },
  {
   "cell_type": "code",
   "execution_count": 631,
   "id": "0383d989",
   "metadata": {},
   "outputs": [
    {
     "data": {
      "text/plain": [
       "5×5 Matrix{Float64}:\n",
       " 0.883902  0.0       0.0       0.0       0.0\n",
       " 0.0       0.622426  0.0       0.0       0.0\n",
       " 0.0       0.0       0.553729  0.0       0.0\n",
       " 0.0       0.0       0.0       0.713685  0.0\n",
       " 0.0       0.0       0.0       0.0       0.975552"
      ]
     },
     "execution_count": 631,
     "metadata": {},
     "output_type": "execute_result"
    }
   ],
   "source": [
    "# Wywołanie funkcji jacobian stosując jako argument funkcję sin(x). \n",
    "f(x::Vector) = sin.(x)\n",
    "jacobian(f,rand(Float64,5))\n"
   ]
  },
  {
   "cell_type": "code",
   "execution_count": 485,
   "id": "99fd01e0",
   "metadata": {
    "collapsed": true
   },
   "outputs": [
    {
     "data": {
      "text/plain": [
       "0.838975060900453"
      ]
     },
     "execution_count": 485,
     "metadata": {},
     "output_type": "execute_result"
    }
   ],
   "source": [
    "# Liczenie błędu sieci\n",
    "\n",
    "mean_squared_loss(y::Vector, ŷ::Vector) = sum(0.5(y - ŷ).^2)\n",
    "fullyconnected(w::Vector, n::Number, m::Number, v::Vector, activation::Function) = activation.(reshape(w, n, m) * v)\n",
    "Wh  = randn(10,2)\n",
    "Wo  = randn(1,10)\n",
    "dWh = similar(Wh)\n",
    "dWo = similar(Wo)\n",
    "x = [1.98;4.434]\n",
    "y = [0.064]\n",
    "E = Float64[]\n",
    "\n",
    "function net(x, wh, wo, y)\n",
    "    x̂ = fullyconnected(wh, 10, 2, x, σ)\n",
    "    ŷ = fullyconnected(wo, 1, 10, x̂, u->u)\n",
    "    E = mean_squared_loss(y, ŷ)\n",
    "    \n",
    "end\n",
    "Ei = net(x, Wh[:], Wo[:], y)\n"
   ]
  },
  {
   "cell_type": "code",
   "execution_count": 486,
   "id": "7e910eb4",
   "metadata": {
    "collapsed": true
   },
   "outputs": [
    {
     "name": "stdout",
     "output_type": "stream",
     "text": [
      "Current loss: 0.0847427875436946\n",
      "Current loss: 0.007432918640125676\n",
      "Current loss: 0.0006283031780299048\n",
      "Current loss: 5.257990739220367e-5\n",
      "Current loss: 4.387502920311347e-6\n",
      "Current loss: 3.658079479989435e-7\n",
      "Current loss: 3.049189052703089e-8\n",
      "Current loss: 2.5414723755141596e-9\n",
      "Current loss: 2.1182524822933536e-10\n",
      "Current loss: 1.765499258571549e-11\n",
      "wektor błędów[0.838975060900453, 0.0847427875436946, 0.007432918640125676, 0.0006283031780299048, 5.257990739220367e-5, 4.387502920311347e-6, 3.658079479989435e-7, 3.049189052703089e-8, 2.5414723755141596e-9, 2.1182524822933536e-10]\n"
     ]
    }
   ],
   "source": [
    "dnet_Wh(x, wh, wo, y) = J(w -> net(x, w, wo, y), wh);\n",
    "dnet_Wo(x, wh, wo, y) = J(w -> net(x, wh, w, y), wo);\n",
    "\n",
    "\n",
    "#push!(E, Ei)\n",
    "\n",
    "\n",
    "i = 1\n",
    "error = Float64[]\n",
    "while i <= 10\n",
    "    \n",
    "    push!(E, Ei)\n",
    "    dWh[:] = dnet_Wh(x, Wh[:], Wo[:], y);\n",
    "    dWo[:] = dnet_Wo(x, Wh[:], Wo[:], y);\n",
    "    Wh -= 0.1dWh\n",
    "    Wo -= 0.1dWo\n",
    "\n",
    "    Ei  = net(x, Wh[:], Wo[:], y)\n",
    "    i += 1\n",
    "    \n",
    "    println(\"Current loss: \", Ei)\n",
    "end\n",
    "println(\"wektor błędów\", E)"
   ]
  },
  {
   "cell_type": "code",
   "execution_count": 433,
   "id": "56b8b0dc",
   "metadata": {
    "collapsed": true
   },
   "outputs": [
    {
     "data": {
      "text/plain": [
       "BenchmarkTools.Trial: \n",
       "  memory estimate:  74.67 KiB\n",
       "  allocs estimate:  725\n",
       "  --------------\n",
       "  minimum time:     35.400 μs (0.00% GC)\n",
       "  median time:      40.300 μs (0.00% GC)\n",
       "  mean time:        53.572 μs (14.82% GC)\n",
       "  maximum time:     10.752 ms (99.22% GC)\n",
       "  --------------\n",
       "  samples:          10000\n",
       "  evals/sample:     1"
      ]
     },
     "execution_count": 433,
     "metadata": {},
     "output_type": "execute_result"
    }
   ],
   "source": [
    "mean_squared_loss(y::Vector, ŷ::Vector) = sum(0.5(y - ŷ).^2)\n",
    "fullyconnected(w::Vector, n::Number, m::Number, v::Vector, activation::Function) = activation.(reshape(w, n, m) * v)\n",
    "\n",
    "\n",
    "function net(x, wh, wo, y)\n",
    "    x̂ = fullyconnected(wh, 10, 2, x, σ)\n",
    "    ŷ = fullyconnected(wo, 1, 10, x̂, u->u)\n",
    "    #println(x)\n",
    "    E = mean_squared_loss(y, ŷ)\n",
    "end\n",
    "#Ei = net(x, Wh[:], Wo[:], y)\n",
    "#println(\"Initial loss: \", Ei)\n",
    "\n",
    "function net_error()\n",
    "    i = 1\n",
    "    \n",
    "    Err = Float64[]\n",
    "    while i <= 30\n",
    "    \n",
    "        Wh  = randn(10,2)\n",
    "        Wo  = randn(1,10)\n",
    "        dWh = similar(Wh)\n",
    "        dWo = similar(Wo)\n",
    "        x = [1.98;4.434]\n",
    "        y = [0.2]\n",
    "        E = Float64[]\n",
    "\n",
    "        i += 1\n",
    "        Ei = net(x, Wh[:], Wo[:], y)\n",
    "        #println(\"Initial loss: \", Ei)\n",
    "        push!(Err, Ei)\n",
    "        #print(Err)\n",
    "    end\n",
    "end\n",
    "a = @benchmark net_error()\n",
    "#print(Err)\n"
   ]
  },
  {
   "cell_type": "code",
   "execution_count": 534,
   "id": "8a9f605b",
   "metadata": {
    "collapsed": true
   },
   "outputs": [
    {
     "data": {
      "image/png": "[encoded data removed]"
     },
     "execution_count": 534,
     "metadata": {},
     "output_type": "execute_result"
    }
   ],
   "source": [
    "using Plots\n",
    "x = [1:10]\n",
    "plot(x, Err, line=nothing, label = \"Loss function\", marker=:circle)\n",
    "xaxis!(\"epoch\")\n",
    "yaxis!(\"loss function\")"
   ]
  },
  {
   "cell_type": "code",
   "execution_count": null,
   "id": "47615836",
   "metadata": {},
   "outputs": [],
   "source": [
    "# Testy z użyciem modułu BenchmarkTools na potrzeby raportu"
   ]
  },
  {
   "cell_type": "code",
   "execution_count": 542,
   "id": "12cb67cf",
   "metadata": {
    "collapsed": true
   },
   "outputs": [
    {
     "data": {
      "image/png": "[encoded data removed]"
     },
     "execution_count": 542,
     "metadata": {},
     "output_type": "execute_result"
    },
    {
     "name": "stderr",
     "output_type": "stream",
     "text": [
      "sys:1: UserWarning: The following kwargs were not used by contour: 'label'\r\n"
     ]
    }
   ],
   "source": [
    "# Funkcja rosenbrocka\n",
    "rosenbrock(x, y) = (1.0 - x*x) + 100.0*(y - x*x)*(y -x*x)\n",
    "\n",
    "function rosenbrock_gradient()\n",
    "    v = -1:0.2:+1\n",
    "    n = length(v)\n",
    "    xv = repeat(v, inner = n)\n",
    "    yv = repeat(v, outer = n)\n",
    "\n",
    "    z = rosenbrock.(xv .+ ϵ, yv)\n",
    "    dx = 5e-4partials.(z)\n",
    "    z = rosenbrock.(xv, yv .+ ϵ)\n",
    "    dy = 5e-4partials.(z)\n",
    "    zv = value.(z)\n",
    "end\n",
    "\n",
    "using Plots\n",
    "zv = reshape(zv, n, n)\n",
    "contour(v, v, zv, fill = true)\n",
    "quiver!(xv[:], yv[:], gradient=(dx, dy))"
   ]
  },
  {
   "cell_type": "code",
   "execution_count": 630,
   "id": "03b51999",
   "metadata": {},
   "outputs": [
    {
     "data": {
      "text/plain": [
       "BenchmarkTools.Trial: \n",
       "  memory estimate:  11.91 KiB\n",
       "  allocs estimate:  26\n",
       "  --------------\n",
       "  minimum time:     4.014 μs (0.00% GC)\n",
       "  median time:      4.300 μs (0.00% GC)\n",
       "  mean time:        6.149 μs (8.78% GC)\n",
       "  maximum time:     519.829 μs (98.47% GC)\n",
       "  --------------\n",
       "  samples:          10000\n",
       "  evals/sample:     7"
      ]
     },
     "execution_count": 630,
     "metadata": {},
     "output_type": "execute_result"
    }
   ],
   "source": [
    "# Obliczenie gradientu funkcji rosenbrocka - testy BenchmarkTools\n",
    "a = @benchmark rosenbrock_gradient()"
   ]
  },
  {
   "cell_type": "code",
   "execution_count": 629,
   "id": "e1fed02a",
   "metadata": {
    "collapsed": true
   },
   "outputs": [
    {
     "data": {
      "text/plain": [
       "10000-element Vector{Float64}:\n",
       "   4042.8571428571427\n",
       "   4057.1428571428573\n",
       "   4057.1428571428573\n",
       "   4057.1428571428573\n",
       "   4057.1428571428573\n",
       "   4057.1428571428573\n",
       "   4057.1428571428573\n",
       "   4057.1428571428573\n",
       "   4071.4285714285716\n",
       "   4071.4285714285716\n",
       "   4071.4285714285716\n",
       "   4071.4285714285716\n",
       "   4071.4285714285716\n",
       "      ⋮\n",
       "  26728.571428571428\n",
       " 433671.4285714286\n",
       " 445657.14285714284\n",
       " 452185.71428571426\n",
       " 453085.71428571426\n",
       " 453785.71428571426\n",
       " 453885.71428571426\n",
       " 456028.5714285714\n",
       " 460271.4285714286\n",
       " 476585.71428571426\n",
       " 485757.14285714284\n",
       " 505028.5714285714"
      ]
     },
     "execution_count": 629,
     "metadata": {},
     "output_type": "execute_result"
    }
   ],
   "source": [
    "a.times"
   ]
  },
  {
   "cell_type": "code",
   "execution_count": 565,
   "id": "4128420e",
   "metadata": {},
   "outputs": [
    {
     "data": {
      "text/plain": [
       "Any[]"
      ]
     },
     "execution_count": 565,
     "metadata": {},
     "output_type": "execute_result"
    }
   ],
   "source": [
    "forward_mean = []\n"
   ]
  },
  {
   "cell_type": "code",
   "execution_count": 585,
   "id": "2ff3e1bd",
   "metadata": {},
   "outputs": [
    {
     "data": {
      "text/plain": [
       "BenchmarkTools.Trial: \n",
       "  memory estimate:  69.88 KiB\n",
       "  allocs estimate:  1118\n",
       "  --------------\n",
       "  minimum time:     17.500 μs (0.00% GC)\n",
       "  median time:      20.000 μs (0.00% GC)\n",
       "  mean time:        28.251 μs (23.34% GC)\n",
       "  maximum time:     6.785 ms (99.41% GC)\n",
       "  --------------\n",
       "  samples:          10000\n",
       "  evals/sample:     1"
      ]
     },
     "execution_count": 585,
     "metadata": {},
     "output_type": "execute_result"
    }
   ],
   "source": [
    "# Obliczanie macierzy pochodnych funkcji sinus za pomocą Jacobiana\n",
    "vector = rand(Float64, 2)\n",
    "f(x::Vector) = sin(x[1] * x[2])\n",
    "b = @benchmark jacobian(f,vector)\n",
    "\n",
    "#mean_times = mean(b.times)\n",
    "#push!(forward_mean, mean_times)"
   ]
  },
  {
   "cell_type": "code",
   "execution_count": 624,
   "id": "da6a3602",
   "metadata": {},
   "outputs": [
    {
     "data": {
      "text/plain": [
       "15-element Vector{Float64}:\n",
       "   597.551959798995\n",
       "  1620.559\n",
       "  2388.411\n",
       "  3215.5188888888893\n",
       "  4435.94625\n",
       "  5350.0375\n",
       "  6563.025714285715\n",
       "  7556.823333333331\n",
       "  9988.158\n",
       " 16221.45\n",
       " 18027.82\n",
       " 20504.02\n",
       " 21734.13\n",
       " 25530.39\n",
       " 28120.19"
      ]
     },
     "execution_count": 624,
     "metadata": {},
     "output_type": "execute_result"
    }
   ],
   "source": [
    "mean_t_reverse = [457.60120331950196, 744.0609090909091, 1079.5298648648647, 1412.328, 1859.418, 2247.663, 2642.8422222222225, 3008.519999999999, 3400.8355555555554, 3935.27, 4670.15625, 5443.152857142856, 6507.871666666667, 7750.98, 8253.9375]\n",
    "mean_t_forward = [597.551959798995, 1620.559, 2388.411, 3215.5188888888893, 4435.94625, 5350.0375, 6563.025714285715, 7556.823333333331, 9988.158, 16221.45, 18027.82, 20504.02, 21734.13, 25530.39, 28120.19]"
   ]
  },
  {
   "cell_type": "code",
   "execution_count": 625,
   "id": "49f8cb00",
   "metadata": {},
   "outputs": [
    {
     "data": {
      "image/png": "[encoded data removed]"
     },
     "execution_count": 625,
     "metadata": {},
     "output_type": "execute_result"
    }
   ],
   "source": [
    "using Plots\n",
    "x = [2:2:30]\n",
    "plot(x, mean_t_forward, title = \"Różniczkowanie - macierz Jacobiego\", label = \"Algorytm różniczkowania w przód\" )\n",
    "plot!(x, mean_t_reverse, label = \"Algorytm różniczkowania w tył\")\n",
    "xaxis!(\"Liczba zmiennych\")\n",
    "yaxis!(\"Sredni czas realizacji [ns]\")"
   ]
  },
  {
   "cell_type": "code",
   "execution_count": 586,
   "id": "56eb7e82",
   "metadata": {},
   "outputs": [
    {
     "data": {
      "text/plain": [
       "15-element Vector{Any}:\n",
       "   597.551959798995\n",
       "  1620.559\n",
       "  2388.411\n",
       "  3215.5188888888893\n",
       "  4435.94625\n",
       "  5350.0375\n",
       "  6563.025714285715\n",
       "  7556.823333333331\n",
       "  9988.158\n",
       " 16221.45\n",
       " 18027.82\n",
       " 20504.02\n",
       " 21734.13\n",
       " 25530.39\n",
       " 28120.19"
      ]
     },
     "execution_count": 586,
     "metadata": {},
     "output_type": "execute_result"
    }
   ],
   "source": [
    "forward_mean"
   ]
  },
  {
   "cell_type": "code",
   "execution_count": null,
   "id": "da123cdf",
   "metadata": {},
   "outputs": [],
   "source": []
  }
 ],
 "metadata": {
  "kernelspec": {
   "display_name": "Julia 1.6.0",
   "language": "julia",
   "name": "julia-1.6"
  },
  "language_info": {
   "file_extension": ".jl",
   "mimetype": "application/julia",
   "name": "julia",
   "version": "1.6.0"
  }
 },
 "nbformat": 4,
 "nbformat_minor": 5
}
