{
 "cells": [
  {
   "cell_type": "code",
   "execution_count": 1,
   "id": "014f7d90",
   "metadata": {},
   "outputs": [],
   "source": [
    "# Definicja typów\n",
    "\n",
    "abstract type Node end\n",
    "\n",
    "abstract type LeafNode <: Node end\n",
    "\n",
    "mutable struct Variable{T} <: LeafNode\n",
    "    value::T\n",
    "    grad::T\n",
    "end\n",
    "\n",
    "struct ComputableNode{OT, AT} <: Node\n",
    "    op::OT\n",
    "    args::AT\n",
    "end\n",
    "\n",
    "mutable struct CachedNode{NT, OUT} <: Node\n",
    "    node::NT\n",
    "    out::OUT\n",
    "\n",
    "end"
   ]
  },
  {
   "cell_type": "code",
   "execution_count": 2,
   "id": "25da4bdc",
   "metadata": {},
   "outputs": [
    {
     "data": {
      "text/plain": [
       "register (generic function with 1 method)"
      ]
     },
     "execution_count": 2,
     "metadata": {},
     "output_type": "execute_result"
    }
   ],
   "source": [
    "# definicja funkcji register\n",
    "\n",
    "function register(op, args...)\n",
    "    node = ComputableNode(op, args)\n",
    "    out = forward(node)\n",
    "    CachedNode(node, out)\n",
    "end"
   ]
  },
  {
   "cell_type": "code",
   "execution_count": 3,
   "id": "566aa42d",
   "metadata": {
    "collapsed": true
   },
   "outputs": [
    {
     "ename": "LoadError",
     "evalue": "UndefVarError: forward not defined",
     "output_type": "error",
     "traceback": [
      "UndefVarError: forward not defined",
      "",
      "Stacktrace:",
      " [1] register(::Function, ::Variable{Float64}, ::Vararg{Variable{Float64}, N} where N)",
      "   @ Main .\\In[2]:5",
      " [2] *",
      "   @ .\\In[3]:4 [inlined]",
      " [3] f(x::Variable{Float64})",
      "   @ Main .\\In[3]:10",
      " [4] top-level scope",
      "   @ In[3]:12",
      " [5] eval",
      "   @ .\\boot.jl:360 [inlined]",
      " [6] include_string(mapexpr::typeof(REPL.softscope), mod::Module, code::String, filename::String)",
      "   @ Base .\\loading.jl:1094"
     ]
    }
   ],
   "source": [
    "import Base: +, -, *, /\n",
    "+(x::Node, y::Node) = register(+, x, y)\n",
    "-(x::Node, y::Node) = register(-, x, y)\n",
    "*(x::Node, y::Node) = register(*, x, y)\n",
    "/(x::Node, y::Node) = register(/, x, y)\n",
    "\n",
    "import Base: sin\n",
    "sin(x::Node) = register(sin, x)\n",
    "\n",
    "f(x) = sin(x*x)\n",
    "x = Variable(5.0, 0.0)\n",
    "y = f(x)"
   ]
  },
  {
   "cell_type": "code",
   "execution_count": null,
   "id": "c29a86d4",
   "metadata": {},
   "outputs": [],
   "source": []
  }
 ],
 "metadata": {
  "kernelspec": {
   "display_name": "Julia 1.6.0",
   "language": "julia",
   "name": "julia-1.6"
  },
  "language_info": {
   "file_extension": ".jl",
   "mimetype": "application/julia",
   "name": "julia",
   "version": "1.6.0"
  }
 },
 "nbformat": 4,
 "nbformat_minor": 5
}
